{
 "cells": [
  {
   "cell_type": "code",
   "execution_count": 41,
   "id": "attached-chick",
   "metadata": {},
   "outputs": [],
   "source": [
    "import re\n",
    "from typing import List"
   ]
  },
  {
   "cell_type": "code",
   "execution_count": 10,
   "id": "private-dayton",
   "metadata": {},
   "outputs": [
    {
     "data": {
      "text/plain": [
       "('hello',)"
      ]
     },
     "execution_count": 10,
     "metadata": {},
     "output_type": "execute_result"
    }
   ],
   "source": [
    "re.search('<title>(.*)</title>', '<title>hello</title>', re.IGNORECASE).groups()"
   ]
  },
  {
   "cell_type": "code",
   "execution_count": 46,
   "id": "loose-mother",
   "metadata": {},
   "outputs": [],
   "source": [
    "class Direction:\n",
    "    NORTH = \"NORTH\"\n",
    "    EAST = \"EAST\"\n",
    "    SOUTH = \"SOUTH\"\n",
    "    WEST = \"WEST\"\n",
    "    \n",
    "    @staticmethod\n",
    "    def get_directions() -> List:\n",
    "        return list(filter(lambda x: re.match(r'^__.+__$', x) == None, \n",
    "                           self.__dict__.keys()))"
   ]
  },
  {
   "cell_type": "code",
   "execution_count": 47,
   "id": "certain-merchandise",
   "metadata": {},
   "outputs": [
    {
     "ename": "NameError",
     "evalue": "name 'self' is not defined",
     "output_type": "error",
     "traceback": [
      "\u001b[0;31m---------------------------------------------------------------------------\u001b[0m",
      "\u001b[0;31mNameError\u001b[0m                                 Traceback (most recent call last)",
      "\u001b[0;32m<ipython-input-47-38a76bc0bc5d>\u001b[0m in \u001b[0;36m<module>\u001b[0;34m\u001b[0m\n\u001b[0;32m----> 1\u001b[0;31m \u001b[0mDirection\u001b[0m\u001b[0;34m.\u001b[0m\u001b[0mget_directions\u001b[0m\u001b[0;34m(\u001b[0m\u001b[0;34m)\u001b[0m\u001b[0;34m\u001b[0m\u001b[0;34m\u001b[0m\u001b[0m\n\u001b[0m",
      "\u001b[0;32m<ipython-input-46-56c1dd62f43d>\u001b[0m in \u001b[0;36mget_directions\u001b[0;34m()\u001b[0m\n\u001b[1;32m      8\u001b[0m     \u001b[0;32mdef\u001b[0m \u001b[0mget_directions\u001b[0m\u001b[0;34m(\u001b[0m\u001b[0;34m)\u001b[0m \u001b[0;34m->\u001b[0m \u001b[0mList\u001b[0m\u001b[0;34m:\u001b[0m\u001b[0;34m\u001b[0m\u001b[0;34m\u001b[0m\u001b[0m\n\u001b[1;32m      9\u001b[0m         return list(filter(lambda x: re.match(r'^__.+__$', x) == None, \n\u001b[0;32m---> 10\u001b[0;31m                            self.__dict__.keys()))\n\u001b[0m",
      "\u001b[0;31mNameError\u001b[0m: name 'self' is not defined"
     ]
    }
   ],
   "source": [
    "Direction.get_directions()"
   ]
  },
  {
   "cell_type": "code",
   "execution_count": 39,
   "id": "metric-economics",
   "metadata": {},
   "outputs": [
    {
     "data": {
      "text/plain": [
       "['NORTH', 'EAST', 'SOUTH', 'WEST']"
      ]
     },
     "execution_count": 39,
     "metadata": {},
     "output_type": "execute_result"
    }
   ],
   "source": [
    "list(filter(lambda x: re.match(r'^__.+__$', x) == None, vars(DIRECTION).keys()))"
   ]
  },
  {
   "cell_type": "code",
   "execution_count": 49,
   "id": "hairy-delivery",
   "metadata": {},
   "outputs": [
    {
     "ename": "NameError",
     "evalue": "name 'Action' is not defined",
     "output_type": "error",
     "traceback": [
      "\u001b[0;31m---------------------------------------------------------------------------\u001b[0m",
      "\u001b[0;31mNameError\u001b[0m                                 Traceback (most recent call last)",
      "\u001b[0;32m<ipython-input-49-ea5054b620ea>\u001b[0m in \u001b[0;36m<module>\u001b[0;34m\u001b[0m\n\u001b[1;32m      3\u001b[0m                                     \u001b[0;34m|\u001b[0m\u001b[0;34m{\u001b[0m\u001b[0mDirection\u001b[0m\u001b[0;34m.\u001b[0m\u001b[0mEAST\u001b[0m\u001b[0;34m}\u001b[0m\u001b[0;31m\\\u001b[0m\u001b[0;34m\u001b[0m\u001b[0;34m\u001b[0m\u001b[0m\n\u001b[1;32m      4\u001b[0m                                     \u001b[0;34m|\u001b[0m\u001b[0;34m{\u001b[0m\u001b[0mDirection\u001b[0m\u001b[0;34m.\u001b[0m\u001b[0mSOUTH\u001b[0m\u001b[0;34m}\u001b[0m\u001b[0;31m\\\u001b[0m\u001b[0;34m\u001b[0m\u001b[0;34m\u001b[0m\u001b[0m\n\u001b[0;32m----> 5\u001b[0;31m                                     |{Direction.WEST})$',\n\u001b[0m\u001b[1;32m      6\u001b[0m     \u001b[0;34mf'^{Action.MOVE}$'\u001b[0m\u001b[0;34m,\u001b[0m\u001b[0;34m\u001b[0m\u001b[0;34m\u001b[0m\u001b[0m\n\u001b[1;32m      7\u001b[0m     \u001b[0;34mf'^{Action.LEFT}$'\u001b[0m\u001b[0;34m,\u001b[0m\u001b[0;34m\u001b[0m\u001b[0;34m\u001b[0m\u001b[0m\n",
      "\u001b[0;31mNameError\u001b[0m: name 'Action' is not defined"
     ]
    }
   ],
   "source": [
    "cmd_re_list = '|'.join([\n",
    "    f'^{Action.PLACE}\\s+\\d+\\s+\\d+\\s+({Direction.NORTH}\\\n",
    "                                    |{Direction.EAST}\\\n",
    "                                    |{Direction.SOUTH}\\\n",
    "                                    |{Direction.WEST})$',\n",
    "    f'^{Action.MOVE}$',\n",
    "    f'^{Action.LEFT}$',\n",
    "    f'^{Action.RIGHT}$',\n",
    "    f'^{Action.REPORT}$'\n",
    "])"
   ]
  },
  {
   "cell_type": "code",
   "execution_count": 63,
   "id": "supreme-america",
   "metadata": {},
   "outputs": [
    {
     "data": {
      "text/plain": [
       "('PLACE', '0', '0', 'NORTH')"
      ]
     },
     "execution_count": 63,
     "metadata": {},
     "output_type": "execute_result"
    }
   ],
   "source": [
    "re.match(r'^(PLACE)\\s+(\\d+)\\s+(\\d+)\\s+(NORTH|SOUTH)$', 'PLACE 0 0 NORTH').groups()"
   ]
  },
  {
   "cell_type": "code",
   "execution_count": 55,
   "id": "random-momentum",
   "metadata": {},
   "outputs": [
    {
     "data": {
      "text/plain": [
       "('MOVE',)"
      ]
     },
     "execution_count": 55,
     "metadata": {},
     "output_type": "execute_result"
    }
   ],
   "source": [
    "re.match(r'^(MOVE)$', 'MOVE').groups()"
   ]
  },
  {
   "cell_type": "code",
   "execution_count": 65,
   "id": "mediterranean-guyana",
   "metadata": {},
   "outputs": [],
   "source": [
    "GLOBAL = [\"NORTH\", \"EAST\", \"SOUTH\", \"WEST\"]"
   ]
  },
  {
   "cell_type": "code",
   "execution_count": 73,
   "id": "regulation-links",
   "metadata": {},
   "outputs": [
    {
     "data": {
      "text/plain": [
       "'SOUTH'"
      ]
     },
     "execution_count": 73,
     "metadata": {},
     "output_type": "execute_result"
    }
   ],
   "source": [
    "GLOBAL[-10%4]"
   ]
  }
 ],
 "metadata": {
  "kernelspec": {
   "display_name": "Python 3",
   "language": "python",
   "name": "python3"
  },
  "language_info": {
   "codemirror_mode": {
    "name": "ipython",
    "version": 3
   },
   "file_extension": ".py",
   "mimetype": "text/x-python",
   "name": "python",
   "nbconvert_exporter": "python",
   "pygments_lexer": "ipython3",
   "version": "3.6.12"
  }
 },
 "nbformat": 4,
 "nbformat_minor": 5
}
